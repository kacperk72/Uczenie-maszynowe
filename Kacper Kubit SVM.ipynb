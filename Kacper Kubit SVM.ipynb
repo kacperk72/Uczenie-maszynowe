{
 "cells": [
  {
   "cell_type": "markdown",
   "metadata": {},
   "source": [
    "# Exercises\n",
    "\n",
    "In this section we have two exercises:\n",
    "1. Implement the polynomial kernel.\n",
    "2. Implement the multiclass C-SVM."
   ]
  },
  {
   "cell_type": "markdown",
   "metadata": {},
   "source": [
    "## Polynomial kernel\n",
    "\n",
    "You need to extend the ``build_kernel`` function and implement the polynomial kernel if the ``kernel_type`` is set to 'poly'. The equation that needs to be implemented:\n",
    "\\begin{equation}\n",
    "K=(X^{T}*Y)^{d}.\n",
    "\\end{equation}"
   ]
  },
  {
   "cell_type": "code",
   "execution_count": 36,
   "metadata": {},
   "outputs": [],
   "source": [
    "def build_kernel(data_set, kernel_type='linear'):\n",
    "    kernel = np.dot(data_set, data_set.T)\n",
    "    if kernel_type == 'rbf':\n",
    "        sigma = 1.0\n",
    "        objects_count = len(data_set)\n",
    "        b = np.ones((len(data_set), 1))\n",
    "        kernel -= 0.5 * (np.dot((np.diag(kernel)*np.ones((1, objects_count))).T, b.T)\n",
    "                         + np.dot(b, (np.diag(kernel) * np.ones((1, objects_count))).T.T))\n",
    "        kernel = np.exp(kernel / (2. * sigma ** 2))\n",
    "    elif kernel_type == 'poly':\n",
    "#         pass # put your code here\n",
    "        kernel = (kernel + 1) ** degree\n",
    "    return kernel"
   ]
  },
  {
   "cell_type": "markdown",
   "metadata": {},
   "source": [
    "## Implement a multiclass C-SVM\n",
    "\n",
    "Use the classification method that we used in notebook 7.3 and IRIS dataset to build a multiclass C-SVM classifier. Most implementation is about a function that will return the proper data set that need to be used for the prediction. You need to implement:\n",
    "- ``choose_set_for_label``\n",
    "- ``get_labels_count``"
   ]
  },
  {
   "cell_type": "code",
   "execution_count": 257,
   "metadata": {},
   "outputs": [],
   "source": [
    "import itertools\n",
    "import numpy as np\n",
    "from sklearn.datasets import load_iris\n",
    "from sklearn.metrics import accuracy_score\n",
    "from sklearn.model_selection import train_test_split\n",
    "import cvxopt"
   ]
  },
  {
   "cell_type": "code",
   "execution_count": 258,
   "metadata": {},
   "outputs": [],
   "source": [
    "def polynomial_kernel(x, y, degree=3, coef0=1):\n",
    "    return (np.dot(x, y) + coef0) ** degree\n",
    "\n",
    "def choose_set_for_label(data_set, labels, label):\n",
    "    return data_set[labels == label, :]\n",
    "\n",
    "def get_labels_count(data_set, labels, label):\n",
    "    return len(data_set[labels == label])"
   ]
  },
  {
   "cell_type": "code",
   "execution_count": 259,
   "metadata": {},
   "outputs": [],
   "source": [
    "def build_kernel(data_set, kernel_type='linear', degree=3, coef0=1):\n",
    "    kernel = np.dot(data_set, data_set.T)\n",
    "    if kernel_type == 'polynomial':\n",
    "        kernel = polynomial_kernel(data_set, data_set.T, degree, coef0)\n",
    "    elif kernel_type == 'rbf':\n",
    "        sigma = 1.0\n",
    "        objects_count = len(data_set)\n",
    "        b = np.ones((len(data_set), 1))\n",
    "        kernel -= 0.5 * (np.dot((np.diag(kernel)*np.ones((1, objects_count))).T, b.T) + np.dot(b, (np.diag(kernel) * np.ones((1, objects_count))).T.T))\n",
    "        kernel = np.exp(kernel / (2. * sigma ** 2))\n",
    "    return kernel"
   ]
  },
  {
   "cell_type": "code",
   "execution_count": 260,
   "metadata": {},
   "outputs": [],
   "source": [
    "def train(train_data_set, train_labels, kernel_type='linear', degree=3, coef0=1, C=10, threshold=1e-5):\n",
    "    kernel = build_kernel(train_data_set, kernel_type=kernel_type, degree=degree, coef0=coef0)\n",
    "    objects_count = len(train_data_set)\n",
    "\n",
    "    P = train_labels * train_labels.transpose() * kernel\n",
    "    q = -np.ones((objects_count, 1))\n",
    "    G = np.concatenate((np.eye(objects_count), -np.eye(objects_count)))\n",
    "    h = np.concatenate((C * np.ones((objects_count, 1)), np.zeros((objects_count, 1))))\n",
    "\n",
    "    A = train_labels.reshape(1, objects_count)\n",
    "    A = A.astype(float)\n",
    "    b = 0.0\n",
    "\n",
    "    sol = cvxopt.solvers.qp(cvxopt.matrix(P), cvxopt.matrix(q), cvxopt.matrix(G), cvxopt.matrix(h), cvxopt.matrix(A), cvxopt.matrix(b), options={'show_progress': True})\n",
    "\n",
    "    lambdas = np.array(sol['x'])\n",
    "\n",
    "    support_vectors_id = np.where(lambdas > threshold)[0]\n",
    "    vector_number = len(support_vectors_id)\n",
    "    support_vectors = train_data_set[support_vectors_id, :]\n",
    "\n",
    "    lambdas = lambdas[support_vectors_id]\n",
    "    targets = train_labels[support_vectors_id]\n",
    "\n",
    "    b = np.sum(targets)\n",
    "    for n in range(vector_number):\n",
    "        b -= np.sum(lambdas * targets * np.reshape(kernel[support_vectors_id[n], support_vectors_id], (vector_number, 1)))\n",
    "    b /= len(lambdas)\n",
    "\n",
    "    return lambdas, support_vectors, support_vectors_id, b, targets, vector_number\n"
   ]
  },
  {
   "cell_type": "code",
   "execution_count": 261,
   "metadata": {},
   "outputs": [],
   "source": [
    "def train_multiclass(train_data_set, train_labels, kernel_type='linear', degree=3, coef0=1, C=10, threshold=1e-5):\n",
    "    unique_labels = np.unique(train_labels)\n",
    "    classifiers = {}\n",
    "    for i in range(len(unique_labels)):\n",
    "        for j in range(i+1, len(unique_labels)):\n",
    "            label_i, label_j = unique_labels[i], unique_labels[j]\n",
    "            binary_train_labels = train_labels[(train_labels == label_i) | (train_labels == label_j)]\n",
    "            binary_train_data_set = train_data_set[(train_labels == label_i) | (train_labels == label_j)]\n",
    "            binary_train_labels[binary_train_labels == label_i] = -1\n",
    "            binary_train_labels[binary_train_labels == label_j] = 1\n",
    "            classifiers[(label_i, label_j)] = train(binary_train_data_set, binary_train_labels, kernel_type, degree, coef0, C, threshold)\n",
    "    return classifiers"
   ]
  },
  {
   "cell_type": "code",
   "execution_count": 262,
   "metadata": {},
   "outputs": [],
   "source": [
    "def classify_rbf(test_data_set, train_data_set, lambdas, targets, b, vector_number, support_vectors, support_vectors_id):\n",
    "    kernel = np.dot(test_data_set, support_vectors.T)\n",
    "    sigma = 1.0\n",
    "    c = (1. / sigma * np.sum(test_data_set ** 2, axis=1) * np.ones((1, np.shape(test_data_set)[0]))).T\n",
    "    c = np.dot(c, np.ones((1, np.shape(kernel)[1])))\n",
    "    sv = (np.diag(np.dot(train_data_set, train_data_set.T))*np.ones((1,len(train_data_set)))).T[support_vectors_id]\n",
    "    aa = np.dot(sv,np.ones((1,np.shape(kernel)[0]))).T\n",
    "    kernel = kernel - 0.5 * c - 0.5 * aa\n",
    "    kernel = np.exp(kernel / (2. * sigma ** 2))\n",
    "\n",
    "    y = np.zeros((np.shape(test_data_set)[0], 1))\n",
    "    for j in range(np.shape(test_data_set)[0]):\n",
    "        for i in range(vector_number):\n",
    "            y[j] += lambdas[i] * targets[i] * kernel[j, i]\n",
    "        y[j] += b\n",
    "    return np.sign(y)"
   ]
  },
  {
   "cell_type": "code",
   "execution_count": 263,
   "metadata": {},
   "outputs": [
    {
     "name": "stdout",
     "output_type": "stream",
     "text": [
      "     pcost       dcost       gap    pres   dres\n",
      " 0:  1.8337e-01 -9.3193e+02  2e+03  2e-01  4e-11\n",
      " 1:  9.0822e-02 -2.7948e+01  5e+01  3e-03  3e-11\n",
      " 2:  4.3770e-02 -1.7612e+00  3e+00  2e-04  3e-12\n",
      " 3:  1.5191e-03 -2.3259e-01  4e-01  2e-05  4e-13\n",
      " 4:  4.4677e-04 -2.3595e-02  4e-02  2e-06  6e-14\n",
      " 5:  4.1068e-04 -7.5803e-04  1e-03  2e-08  1e-14\n",
      " 6:  4.8559e-05 -1.0554e-04  2e-04  2e-16  3e-15\n",
      " 7: -2.7201e-06 -2.3642e-05  2e-05  2e-16  1e-15\n",
      " 8: -7.8438e-06 -1.2629e-05  5e-06  2e-16  6e-16\n",
      " 9: -9.9894e-06 -1.3164e-05  3e-06  3e-16  3e-16\n",
      "10: -1.1231e-05 -1.1826e-05  6e-07  2e-16  4e-16\n",
      "11: -1.1530e-05 -1.1554e-05  2e-08  2e-16  5e-16\n",
      "Optimal solution found.\n",
      "     pcost       dcost       gap    pres   dres\n",
      " 0:  2.3236e-01 -9.0995e+02  2e+03  2e-01  7e-11\n",
      " 1:  6.6251e-02 -2.9230e+01  5e+01  3e-03  6e-11\n",
      " 2:  3.2783e-02 -1.2928e+00  2e+00  1e-04  8e-12\n",
      " 3:  1.9916e-03 -1.6535e-01  3e-01  1e-05  9e-13\n",
      " 4:  2.5682e-04 -1.7793e-02  3e-02  1e-06  1e-13\n",
      " 5:  2.4333e-04 -4.8625e-04  8e-04  1e-08  1e-14\n",
      " 6:  2.9377e-05 -6.2729e-05  9e-05  2e-16  4e-15\n",
      " 7: -1.7444e-06 -1.4152e-05  1e-05  2e-16  2e-15\n",
      " 8: -4.9172e-06 -7.9967e-06  3e-06  2e-16  8e-16\n",
      " 9: -5.7098e-06 -8.5979e-06  3e-06  2e-16  8e-16\n",
      "10: -7.1910e-06 -7.5239e-06  3e-07  2e-16  5e-16\n",
      "11: -7.3387e-06 -7.4904e-06  2e-07  1e-16  5e-16\n",
      "12: -7.3962e-06 -7.4060e-06  1e-08  2e-16  5e-16\n",
      "Optimal solution found.\n",
      "     pcost       dcost       gap    pres   dres\n",
      " 0:  3.7249e-01 -9.1089e+02  2e+03  2e-01  1e-10\n",
      " 1:  8.3236e-02 -2.9717e+01  5e+01  4e-03  1e-10\n",
      " 2:  2.4215e-02 -8.5977e-01  1e+00  1e-04  1e-11\n",
      " 3:  1.6108e-03 -1.5154e-01  2e-01  1e-05  2e-12\n",
      " 4:  7.0296e-05 -1.2878e-02  2e-02  9e-07  1e-13\n",
      " 5:  1.4857e-04 -3.1381e-04  5e-04  9e-09  1e-14\n",
      " 6:  1.9974e-05 -3.8719e-05  6e-05  2e-16  3e-15\n",
      " 7: -3.7146e-07 -8.3968e-06  8e-06  2e-16  2e-15\n",
      " 8: -2.8396e-06 -4.6084e-06  2e-06  2e-16  7e-16\n",
      " 9: -3.6605e-06 -4.7858e-06  1e-06  2e-16  4e-16\n",
      "10: -4.3936e-06 -4.4230e-06  3e-08  2e-16  6e-16\n",
      "Optimal solution found.\n",
      "Multiclass C-SVM accuracy with polynomial kernel: 0.3\n"
     ]
    }
   ],
   "source": [
    "iris = load_iris()\n",
    "data_set = iris.data\n",
    "labels = iris.target\n",
    "\n",
    "train_data_set, test_data_set, train_labels, test_labels = train_test_split(data_set, labels, test_size=0.2, random_state=42)\n",
    "\n",
    "classifiers = train_multiclass(train_data_set, train_labels, kernel_type='polynomial', degree=3, coef0=1, C=10, threshold=1e-5)\n",
    "\n",
    "predicted = classify_rbf(test_data_set, train_data_set, lambdas, targets, b, vector_number, support_vectors, support_vectors_id)\n",
    "predicted = list(predicted.astype(int))\n",
    "print(\"Multiclass C-SVM accuracy with polynomial kernel:\", accuracy_score(predicted, test_labels))"
   ]
  },
  {
   "cell_type": "code",
   "execution_count": null,
   "metadata": {},
   "outputs": [],
   "source": []
  }
 ],
 "metadata": {
  "kernelspec": {
   "display_name": "Python 3",
   "language": "python",
   "name": "python3"
  },
  "language_info": {
   "codemirror_mode": {
    "name": "ipython",
    "version": 3
   },
   "file_extension": ".py",
   "mimetype": "text/x-python",
   "name": "python",
   "nbconvert_exporter": "python",
   "pygments_lexer": "ipython3",
   "version": "3.6.9"
  }
 },
 "nbformat": 4,
 "nbformat_minor": 4
}
